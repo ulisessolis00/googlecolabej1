{
  "nbformat": 4,
  "nbformat_minor": 0,
  "metadata": {
    "colab": {
      "provenance": []
    },
    "kernelspec": {
      "name": "python3",
      "display_name": "Python 3"
    },
    "language_info": {
      "name": "python"
    }
  },
  "cells": [
    {
      "cell_type": "markdown",
      "source": [
        "#Data Science Tools and Ecosystem"
      ],
      "metadata": {
        "id": "odP7uzfF11f0"
      }
    },
    {
      "cell_type": "markdown",
      "source": [
        "###IIn this notebook, Data Science Tools and Ecosystem are summarized."
      ],
      "metadata": {
        "id": "0MHAg_fF6mRx"
      }
    },
    {
      "cell_type": "markdown",
      "source": [
        "##Popular programming languages ​​for data science\n",
        "\n",
        "\n",
        "\n",
        "*   1. Python\n",
        "*   2. R\n",
        "*   3. Julia\n",
        "*   4. SQL\n",
        "\n",
        "\n",
        "\n"
      ],
      "metadata": {
        "id": "yJyZwGfN6oE4"
      }
    },
    {
      "cell_type": "markdown",
      "source": [
        "##Popular libraries for data science\n",
        "\n",
        "\n",
        "\n",
        "*   1. Pandas\n",
        "*   2. Numpy\n",
        "*   3. Matplotlib\n",
        "*   4. Sklearn\n",
        "\n"
      ],
      "metadata": {
        "id": "lrNOkxLW7EW3"
      }
    },
    {
      "cell_type": "markdown",
      "source": [
        "##Data Science tools\n",
        "\n",
        "| Tool            |\n",
        "|-------------------------|\n",
        "| Visual Studio Code      |\n",
        "| Jupyter Notebooks       |\n",
        "| Anaconda                |\n",
        "\n"
      ],
      "metadata": {
        "id": "Jwj3wQAtBJsJ"
      }
    },
    {
      "cell_type": "markdown",
      "source": [
        "##Below are a few examples of evaluating arithmetic expressions in Python"
      ],
      "metadata": {
        "id": "y0RrL0Eg7cvP"
      }
    },
    {
      "cell_type": "code",
      "execution_count": null,
      "metadata": {
        "colab": {
          "base_uri": "https://localhost:8080/"
        },
        "id": "-iiCx10B100X",
        "outputId": "ed5ef6ed-cf65-413c-bb21-e7487f5e89c6"
      },
      "outputs": [
        {
          "output_type": "stream",
          "name": "stdout",
          "text": [
            "17\n"
          ]
        }
      ],
      "source": [
        "print((3*4)+5)"
      ]
    },
    {
      "cell_type": "code",
      "source": [
        "#Convert minutes to hours\n",
        "\n",
        "min = int(input('Enter the minutes: '))\n",
        "h = min/60\n",
        "print(h)"
      ],
      "metadata": {
        "colab": {
          "base_uri": "https://localhost:8080/"
        },
        "id": "omKxPPry9gOd",
        "outputId": "51d5ad7d-6fba-4a40-e899-9c2a1d8a44cf"
      },
      "execution_count": null,
      "outputs": [
        {
          "output_type": "stream",
          "name": "stdout",
          "text": [
            "Enter the minutes: 200\n",
            "3.3333333333333335\n"
          ]
        }
      ]
    },
    {
      "cell_type": "markdown",
      "source": [
        "#Objetives\n",
        "\n",
        "* 1. Popular Languages\n",
        "* 2. Common Libraries\n",
        "* 3. Arithmatic Expressions"
      ],
      "metadata": {
        "id": "olP6PePV-Bm8"
      }
    },
    {
      "cell_type": "markdown",
      "source": [
        "##Author\n",
        "\n",
        "Abraham Solis"
      ],
      "metadata": {
        "id": "aTPhv0HJ9T2t"
      }
    }
  ]
}